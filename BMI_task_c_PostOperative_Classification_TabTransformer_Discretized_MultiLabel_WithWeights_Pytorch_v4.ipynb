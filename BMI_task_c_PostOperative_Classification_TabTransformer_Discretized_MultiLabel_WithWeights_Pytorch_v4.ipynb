{
 "cells": [
  {
   "cell_type": "code",
   "execution_count": 68,
   "id": "c9e7a689-1442-4570-88d2-016123920037",
   "metadata": {},
   "outputs": [],
   "source": [
    "import numpy as np\n",
    "import pandas as pd\n",
    "import scipy\n",
    "import torch\n",
    "import torch.nn as nn\n",
    "import torch.nn.functional as F\n",
    "from torch.utils.data import Dataset, DataLoader\n",
    "from sklearn.preprocessing import QuantileTransformer, KBinsDiscretizer\n",
    "from sklearn.model_selection import StratifiedKFold, train_test_split, KFold\n",
    "from torch.optim.lr_scheduler import CosineAnnealingLR, OneCycleLR\n",
    "from tqdm import tqdm\n",
    "import torchmetrics\n",
    "from torchmetrics import AUROC\n",
    "from tab_transformer_pytorch import TabTransformer\n",
    "import matplotlib.pyplot as plt\n",
    "import gc, sys, random, warnings\n",
    "gc.enable()\n",
    "warnings.filterwarnings(\"ignore\")"
   ]
  },
  {
   "cell_type": "code",
   "execution_count": 69,
   "id": "92f4b70f-515b-4ffc-b7cd-f06c5305fca1",
   "metadata": {},
   "outputs": [
    {
     "data": {
      "text/plain": [
       "'1.3.1'"
      ]
     },
     "execution_count": 69,
     "metadata": {},
     "output_type": "execute_result"
    }
   ],
   "source": [
    "torchmetrics.__version__"
   ]
  },
  {
   "cell_type": "code",
   "execution_count": 70,
   "id": "197204b8-b2b5-4f8b-9834-723d887dc1ec",
   "metadata": {},
   "outputs": [],
   "source": [
    "pd.set_option('display.max_columns',1000)"
   ]
  },
  {
   "cell_type": "code",
   "execution_count": 71,
   "id": "2b85a33c-a00b-4c89-bfc8-4bc14658a511",
   "metadata": {},
   "outputs": [
    {
     "data": {
      "text/plain": [
       "'1.11.0'"
      ]
     },
     "execution_count": 71,
     "metadata": {},
     "output_type": "execute_result"
    }
   ],
   "source": [
    "torch.__version__"
   ]
  },
  {
   "cell_type": "code",
   "execution_count": 72,
   "id": "6b30d72f-ef70-4568-9b37-90afb6a9a512",
   "metadata": {},
   "outputs": [],
   "source": [
    "def seed_all(seed_value):\n",
    "    random.seed(seed_value) # Python\n",
    "    np.random.seed(seed_value) # cpu vars\n",
    "    torch.manual_seed(seed_value) # cpu  vars\n",
    "    \n",
    "    if torch.cuda.is_available(): \n",
    "        torch.cuda.manual_seed(seed_value)\n",
    "        torch.cuda.manual_seed_all(seed_value) # gpu vars\n",
    "        torch.backends.cudnn.deterministic = True  #needed\n",
    "seed_all(123)"
   ]
  },
  {
   "cell_type": "code",
   "execution_count": 73,
   "id": "220d653c-eba9-469d-be4e-f073f84b2e77",
   "metadata": {},
   "outputs": [
    {
     "name": "stdout",
     "output_type": "stream",
     "text": [
      "(738, 39)\n"
     ]
    }
   ],
   "source": [
    "# Load data\n",
    "path = './Backup_Regression/'\n",
    "name = 'Predictions_Option_1.xlsx'\n",
    "\n",
    "data = pd.read_excel(path+name)\n",
    "print(data.shape)"
   ]
  },
  {
   "cell_type": "code",
   "execution_count": 74,
   "id": "2744f0ac-3e74-405b-a64a-e5f450da8cf7",
   "metadata": {},
   "outputs": [
    {
     "name": "stdout",
     "output_type": "stream",
     "text": [
      "['Complication after surgery (1 = Anastomotic leakage\\n2 = Sleeve leak\\n3 = Intussusception after Roux-en-Y gastric bypass\\n4 = Mesenteric internal hernia after Roux-en-Y gastric bypass\\n5 = Internal hernia through Peterson`s defect after Roux-en-Y gastric bypass\\n6 = Hiatal hernia\\n7 = Gastro Esophageal Reflux Disease (GERD)\\n8 = Amastomotic Ulcer\\n9 = Anastomotic stricture\\n10 = Hemorrhage\\n11 = No Complication)', 'Body mass index 3 months after surgery', 'Body mass index 6 months after surgery', 'Body mass index 12 months after surgery', 'Body mass index 18 months after surgery', 'Body mass index 2 years after surgery', 'Body mass index 3 years after surgery', 'Body mass index 4 years after surgery', 'Body mass index 5 years after surgery']\n",
      "Dropping 11 columns...\n",
      "(738, 28)\n",
      "(738, 28) (738, 28) (0, 28)\n",
      "(590, 20) (590, 8) (148, 20) (148, 8)\n",
      "(590, 20) (590, 8) (148, 20)\n"
     ]
    }
   ],
   "source": [
    "# bmi_original_columns = [col for col in data.columns if 'Body mass index' in col and 'after surgery' in col and 'predicted' not in col]\n",
    "post_surgery_columns = [col for col in data.columns if 'after surgery' in col and 'predicted' not in col and 'Diabetes Mellitus' not in col]\n",
    "print(post_surgery_columns)\n",
    "\n",
    "# Drop the bmi post surgery (original) columns, since a lot of them have mising values\n",
    "cols_to_drop = post_surgery_columns + ['record_id','redcap_data_access_group']\n",
    "print(f'Dropping {len(cols_to_drop)} columns...')\n",
    "data = data.drop(columns=cols_to_drop)\n",
    "#print('Adding a sample weight column..')\n",
    "#data['sample_weight'] = 1\n",
    "print(data.shape)\n",
    "\n",
    "data.columns = [col.strip() for col in data.columns]\n",
    "\n",
    "data4 = data.copy()\n",
    "data5 = data4[(data4['Diabetes Mellitus 3 months after surgery (1 = Yes\\n2 = No)'].isnull() == False)&(data4['Diabetes Mellitus 6 months after surgery (1 = Yes\\n2 = No)'].isnull() == False)&(data4['Diabetes Mellitus 12 months after surgery (1 = Yes\\n2 = No)'].isnull() == False)&(data4['Diabetes Mellitus 18 months after surgery (1 = Yes\\n2 = No)'].isnull() == False)&(data4['Diabetes Mellitus 2 years after surgery (1 = Yes\\n2 = No)'].isnull() == False)&(data4['Diabetes Mellitus 3 years after surgery (1 = Yes\\n2 = No)'].isnull() == False)&(data4['Diabetes Mellitus 4 years after surgery (1 = Yes\\n2 = No)'].isnull() == False)&(data4['Diabetes Mellitus 5 years after surgery (1 = Yes\\n2 = No)'].isnull() == False)].copy()\n",
    "data6 = data4.loc[~data4.index.isin(data5.index.tolist())]\n",
    "print(data4.shape, data5.shape, data6.shape)\n",
    "\n",
    "# Split the data in train and validation and then, for train data, perform the KFold Cross Validation\n",
    "target_columns = ['Diabetes Mellitus 3 months after surgery (1 = Yes\\n2 = No)',\n",
    "                 'Diabetes Mellitus 6 months after surgery (1 = Yes\\n2 = No)',\n",
    "                 'Diabetes Mellitus 12 months after surgery (1 = Yes\\n2 = No)',\n",
    "                 'Diabetes Mellitus 18 months after surgery (1 = Yes\\n2 = No)',\n",
    "                 'Diabetes Mellitus 2 years after surgery (1 = Yes\\n2 = No)',\n",
    "                 'Diabetes Mellitus 3 years after surgery (1 = Yes\\n2 = No)',\n",
    "                 'Diabetes Mellitus 4 years after surgery (1 = Yes\\n2 = No)',\n",
    "                 'Diabetes Mellitus 5 years after surgery (1 = Yes\\n2 = No)']\n",
    "\n",
    "Y = data5[target_columns].copy()\n",
    "# Replace 2's in Y with 0's\n",
    "Y = Y.replace(2,0)\n",
    "X = data5.drop(columns = target_columns).copy()\n",
    "X1 , X_val , Y1 , Y_val = train_test_split(X ,\n",
    "                                           Y,\n",
    "                                           test_size = 0.2,\n",
    "                                           random_state = 1234)\n",
    "\n",
    "print(X1.shape, Y1.shape, X_val.shape, Y_val.shape)\n",
    "\n",
    "# train_data = pd.concat([X1,Y1],axis=1)\n",
    "# test_data = pd.concat([X_val,Y_val],axis=1)\n",
    "# print(train_data.shape, test_data.shape)\n",
    "\n",
    "\n",
    "target_df = Y1\n",
    "train_df = X1\n",
    "#train_df['target'] = target_df.iloc[:,:1]\n",
    "test_df = X_val\n",
    "print(train_df.shape, target_df.shape, test_df.shape)"
   ]
  },
  {
   "cell_type": "code",
   "execution_count": 75,
   "id": "c25630e5-2d92-425b-a9eb-45709c384dae",
   "metadata": {},
   "outputs": [],
   "source": [
    "cat_cols = [\n",
    "    'sex (1=Female\\n2=Male)',\n",
    "    'American Society of Anesthesiologists (ASA) Score (1 = ASA 1: healthy person\\n2 = ASA 2: mild systemic disease\\n3 = ASA 3: severe systemic disease\\n4 =ASA 4: severe systemic disease that is a constant threat to life\\n5 = ASA 5: a moribund person who is not expected to survive without the operation)',\n",
    "    'Diabetes mellitus type II preoperative (1 = yes\\n2 = No)',\n",
    "    'Antidiabetic drugs preoperativ (1 = Orale Antidiabetic drugs\\n2 = Insulin\\n3 = No therapy)',\n",
    "    'Obstructive sleep apnea syndrome (OSAS) preoperative  (1 = yes\\n2 = No)',\n",
    "    'surgery (1 = LSG (Laparoscopic Sleeve Gastrectomy)\\n2 = RYGB (Roux en-Y Gastric Bypass)\\n3 = SADI (single anastomosis duodeno-ileal bypass)\\n4 = BPD-DS (Biliopancreatic diversion with duodenal switch)\\n5 = OAGB (One-anastomosis Gastric Bypass)',\n",
    "    'Conversion from gastric sleeve to gastric bypass (1 = Yes\\n2 = No\\n3 = Not available)',\n",
    "    \"Closure of Petersen's space (1 = Yes\\n2 = No\\n3 = Not available)\",\n",
    "    'Closure of the jejunojejunostomy defect (1 = Yes\\n2 = No\\n3 = Not available)'\n",
    "]\n",
    "\n",
    "cont_cols = list(set(train_df.columns)-set(cat_cols))\n",
    "\n",
    "train_df = train_df[cont_cols+cat_cols]\n",
    "test_df = test_df[cont_cols+cat_cols]"
   ]
  },
  {
   "cell_type": "markdown",
   "id": "8bb517a4-f3b0-493e-94c8-568b94f92e21",
   "metadata": {},
   "source": [
    "##### Converting numerical features into Normal Distributions"
   ]
  },
  {
   "cell_type": "code",
   "execution_count": 76,
   "id": "0cfa429f-4264-4e04-afc8-00f5d31e677e",
   "metadata": {},
   "outputs": [],
   "source": [
    "train_scaled, test_scaled = train_df.copy(), test_df.copy()\n",
    "for col in cont_cols:\n",
    "    transformer = QuantileTransformer(n_quantiles=100,random_state=0, output_distribution=\"normal\")\n",
    "    vec_len = len(train_scaled[col].values)\n",
    "    vec_len_test = len(test_scaled[col].values)\n",
    "    raw_vec = train_scaled[col].values.reshape(vec_len, 1)\n",
    "    transformer.fit(raw_vec)\n",
    "\n",
    "    train_scaled[col] = transformer.transform(raw_vec).reshape(1, vec_len)[0]\n",
    "    test_scaled[col] = transformer.transform(test_scaled[col].values.reshape(vec_len_test, 1)).reshape(1, vec_len_test)[0]"
   ]
  },
  {
   "cell_type": "code",
   "execution_count": 77,
   "id": "7f3b55e8-cd55-4435-85fd-532d8059cb47",
   "metadata": {},
   "outputs": [
    {
     "data": {
      "text/plain": [
       "1262"
      ]
     },
     "execution_count": 77,
     "metadata": {},
     "output_type": "execute_result"
    }
   ],
   "source": [
    "del(train_df); del (test_df); gc.collect()"
   ]
  },
  {
   "cell_type": "markdown",
   "id": "c06ded87-60cb-41a1-9555-5f6b1e6d45ba",
   "metadata": {},
   "source": [
    "##### Discretizing Continuous Features"
   ]
  },
  {
   "cell_type": "code",
   "execution_count": 78,
   "id": "2fae5949-fead-433c-9b7c-e7694dfdb529",
   "metadata": {},
   "outputs": [],
   "source": [
    "disc = KBinsDiscretizer(n_bins=50, encode='ordinal',strategy='uniform')\n",
    "train_scaled[cont_cols] = disc.fit_transform(train_scaled[cont_cols])\n",
    "test_scaled[cont_cols] = disc.transform(test_scaled[cont_cols])"
   ]
  },
  {
   "cell_type": "code",
   "execution_count": 79,
   "id": "b9214e63-59b3-4425-b406-2426ea2480f8",
   "metadata": {},
   "outputs": [],
   "source": [
    "y_train = target_df.values\n",
    "train_scaled = train_scaled.values\n",
    "test_scaled = test_scaled.values"
   ]
  },
  {
   "cell_type": "markdown",
   "id": "9159567c-b187-4247-a958-70ec06c43c4e",
   "metadata": {},
   "source": [
    "##### Computing the class weights for each of the labels"
   ]
  },
  {
   "cell_type": "code",
   "execution_count": 80,
   "id": "5b4dec28-4ad3-46df-91cd-aa89e10733eb",
   "metadata": {},
   "outputs": [
    {
     "name": "stdout",
     "output_type": "stream",
     "text": [
      "[0.9169491525423729, 0.9118644067796611, 0.8627118644067797, 0.9271186440677966, 0.8677966101694915, 0.9254237288135593, 0.9322033898305084, 0.9305084745762712]\n",
      "[0.08305084745762711, 0.08813559322033898, 0.13728813559322034, 0.07288135593220339, 0.13220338983050847, 0.07457627118644068, 0.06779661016949153, 0.06949152542372881]\n"
     ]
    }
   ],
   "source": [
    "neg_label_weights = list(y_train.sum(axis=0)/y_train.shape[0])\n",
    "pos_label_weights = list(1-(y_train.sum(axis=0)/y_train.shape[0]))\n",
    "\n",
    "print(pos_label_weights)\n",
    "print(neg_label_weights)"
   ]
  },
  {
   "cell_type": "code",
   "execution_count": 81,
   "id": "a425b0ff-53e7-48f1-b7aa-be6314a7ee2b",
   "metadata": {},
   "outputs": [],
   "source": [
    "# target = torch.tensor([[1,0,1,1,0,0,0,0],[0,0,1,1,0,0,1,0]])\n",
    "\n",
    "# target_size = target.shape[0]\n",
    "# pos_weights = torch.tensor([pos_label_weights for i in range (0,target_size)])\n",
    "# neg_weights = torch.tensor([neg_label_weights for i in range (0,target_size)])\n",
    "\n",
    "# final_weights = target*pos_weights + (1-target)*neg_weights\n",
    "\n",
    "# loss = (loss * final_weights).mean()"
   ]
  },
  {
   "cell_type": "code",
   "execution_count": 82,
   "id": "e119b63d-0a89-4d41-8465-a089b0102140",
   "metadata": {},
   "outputs": [
    {
     "data": {
      "text/plain": [
       "((590, 8), (590, 20), (148, 20))"
      ]
     },
     "execution_count": 82,
     "metadata": {},
     "output_type": "execute_result"
    }
   ],
   "source": [
    "y_train.shape, train_scaled.shape, test_scaled.shape"
   ]
  },
  {
   "cell_type": "markdown",
   "id": "71a5e000-a074-46f2-8b0b-ffafaec505cb",
   "metadata": {},
   "source": [
    "##### Utilities (Functions To Be Used in Training Stage)"
   ]
  },
  {
   "cell_type": "code",
   "execution_count": 83,
   "id": "087f302f-c290-4fa4-9cb9-17fbb96c5705",
   "metadata": {},
   "outputs": [],
   "source": [
    "class AverageMeter:\n",
    "    def __init__(self):\n",
    "        self.reset()\n",
    "\n",
    "    def reset(self):\n",
    "        self.val = 0\n",
    "        self.avg = 0\n",
    "        self.sum = 0\n",
    "        self.count = 0\n",
    "\n",
    "    def update(self, val, n=1):\n",
    "        self.val = val\n",
    "        self.sum += val * n\n",
    "        self.count += n\n",
    "        self.avg = self.sum / self.count"
   ]
  },
  {
   "cell_type": "code",
   "execution_count": 84,
   "id": "0b3ad693-f98e-452b-9808-41be7cd66a04",
   "metadata": {},
   "outputs": [],
   "source": [
    "class EarlyStopping:\n",
    "    def __init__(self, patience=7, mode=\"max\", delta=0.001, verbose = None):\n",
    "        self.patience = patience\n",
    "        self.counter = 0\n",
    "        self.mode = mode\n",
    "        self.best_score = None\n",
    "        self.early_stop = False\n",
    "        self.delta = delta\n",
    "        self.verbose = verbose\n",
    "        if self.mode == \"min\":\n",
    "            self.val_score = np.Inf\n",
    "        else:\n",
    "            self.val_score = -np.Inf\n",
    "\n",
    "    def __call__(self, epoch_score, model, model_path):\n",
    "\n",
    "        if self.mode == \"min\":\n",
    "            score = -1.0 * epoch_score\n",
    "        else:\n",
    "            score = np.copy(epoch_score)\n",
    "\n",
    "        if self.best_score is None:\n",
    "            self.best_score = score\n",
    "            self.save_checkpoint(epoch_score, model, model_path)\n",
    "        elif score < self.best_score: #  + self.delta\n",
    "            self.counter += 1\n",
    "            if self.verbose:\n",
    "                print('EarlyStopping counter: {} out of {}'.format(self.counter, self.patience))\n",
    "            if self.counter >= self.patience:\n",
    "                self.early_stop = True\n",
    "        else:\n",
    "            self.best_score = score\n",
    "            self.save_checkpoint(epoch_score, model, model_path)\n",
    "            self.counter = 0\n",
    "\n",
    "    def save_checkpoint(self, epoch_score, model, model_path):\n",
    "        if epoch_score not in [-np.inf, np.inf, -np.nan, np.nan]:\n",
    "            if self.verbose:\n",
    "                print('Validation score improved ({:.4f} --> {:.4f}). Saving model!'.format(self.val_score, epoch_score))\n",
    "                \n",
    "            torch.save(model.state_dict(), model_path)\n",
    "        self.val_score = epoch_score"
   ]
  },
  {
   "cell_type": "code",
   "execution_count": 85,
   "id": "1e95e8f5-8811-4edc-94bb-15ce0a55df72",
   "metadata": {},
   "outputs": [],
   "source": [
    "class TabDataset(Dataset):\n",
    "    def __init__(self, cat, target = None):\n",
    "        super().__init__()\n",
    "        self.cat = cat\n",
    "        self.target = target\n",
    "        \n",
    "    def __len__(self):\n",
    "        return len(self.cat)\n",
    "    \n",
    "    def __getitem__(self, idx):\n",
    "        cat = self.cat[idx]\n",
    "        \n",
    "        _dict = {'cont': torch.ones(1),\n",
    "                 'cat': torch.LongTensor(cat)}\n",
    "        \n",
    "        if self.target is not None:\n",
    "            target = self.target[idx]\n",
    "            _dict.update({'target': torch.tensor(target, dtype = torch.float)})\n",
    "        \n",
    "        return _dict"
   ]
  },
  {
   "cell_type": "code",
   "execution_count": 86,
   "id": "18965c1c-95e8-4b9b-9539-622a031222b8",
   "metadata": {},
   "outputs": [],
   "source": [
    "class Trainer:\n",
    "    def __init__(self, model, device, loss_fn, opt, scheduler = None):\n",
    "        self.model = model\n",
    "        self.device = device\n",
    "        self.loss_fn = loss_fn\n",
    "        self.opt = opt\n",
    "        self.scheduler = scheduler\n",
    "        \n",
    "    def fit_one_epoch(self, dl):\n",
    "        self.model.train()\n",
    "        losses = AverageMeter()\n",
    "        prog_bar = tqdm(enumerate(dl), total = len(dl), file=sys.stdout, leave = False)\n",
    "        \n",
    "        for bi, d in prog_bar:\n",
    "            cont = d[\"cont\"].to(self.device)\n",
    "            cat = d['cat'].to(self.device)\n",
    "            target = d['target'].to(self.device)\n",
    "            #print('Target Type :',type(target))\n",
    "            #print('Target Shape :',target.shape)\n",
    "            out = self.model(cat, cont)\n",
    "            target_size = target.shape[0]\n",
    "            pos_weights = torch.tensor([pos_label_weights for i in range (0,target_size)])\n",
    "            neg_weights = torch.tensor([neg_label_weights for i in range (0,target_size)])\n",
    "            final_weights = target*pos_weights + (1-target)*neg_weights\n",
    "            loss = self.loss_fn(out.squeeze(-1), target)\n",
    "            loss = (loss * final_weights).mean()\n",
    "\n",
    "            prog_bar.set_description('loss: {:.2f}'.format(loss.item()))\n",
    "            losses.update(loss.item(), cont.size(0))\n",
    "            loss.backward()\n",
    "            self.opt.step()\n",
    "            \n",
    "            if self.scheduler: \n",
    "                self.scheduler.step()\n",
    "                    \n",
    "            self.opt.zero_grad()\n",
    "            \n",
    "    def eval_one_epoch(self, dl, **kwargs):\n",
    "        self.model.eval()\n",
    "        losses = AverageMeter()\n",
    "        metric = AUROC(task='binary')\n",
    "        prog_bar = tqdm(enumerate(dl), total = len(dl), file=sys.stdout, leave = False)\n",
    "        \n",
    "        for bi, d in prog_bar:  \n",
    "            cont = d[\"cont\"].to(self.device)\n",
    "            cat = d['cat'].to(self.device)\n",
    "            target = d['target'].to(self.device)\n",
    "            #print('Target Type :',type(target))\n",
    "            #print('Target Shape :',target.shape)\n",
    "            \n",
    "            with torch.no_grad():\n",
    "                out = self.model(cat, cont)\n",
    "                #print('Out :', out)\n",
    "                target_size = target.shape[0]\n",
    "                pos_weights = torch.tensor([pos_label_weights for i in range (0,target_size)])\n",
    "                neg_weights = torch.tensor([neg_label_weights for i in range (0,target_size)])\n",
    "                final_weights = target*pos_weights + (1-target)*neg_weights\n",
    "                loss = self.loss_fn(out.squeeze(-1), target)\n",
    "                loss = (loss * final_weights).mean()\n",
    "                if metric:\n",
    "                    auroc = metric(out.squeeze(-1), target.int())\n",
    "                \n",
    "                losses.update(loss.item(), cont.size(0))\n",
    "        auroc = metric.compute()\n",
    "        print(f\"F{kwargs['fold']} E{str(kwargs['epoch']):2s}\"\\\n",
    "              f\"  Valid Loss: {losses.avg:.4f}  AUROC Score: {auroc:.4f}\")\n",
    "        return auroc.cpu() if metric else losses.avg"
   ]
  },
  {
   "cell_type": "markdown",
   "id": "cbbfa1df-86b9-4a97-92a6-b68b7a500af5",
   "metadata": {},
   "source": [
    "##### Training"
   ]
  },
  {
   "cell_type": "code",
   "execution_count": 87,
   "id": "70f1964a-885a-470e-b1f4-3fb0dd81cdf4",
   "metadata": {},
   "outputs": [],
   "source": [
    "class cfg:\n",
    "    bs = 64\n",
    "    n_splits = 5\n",
    "    seed = 2021\n",
    "    epochs = 3\n",
    "    lr = 2e-5\n",
    "    checkpoint = lambda fold: f'full_cat_{fold}.pt'\n",
    "    \n",
    "kfold = KFold(n_splits = cfg.n_splits, \n",
    "                        random_state = cfg.seed, \n",
    "                        shuffle = True)\n",
    "splits = [*kfold.split(X = train_scaled, y = y_train[:,:1])]"
   ]
  },
  {
   "cell_type": "code",
   "execution_count": 88,
   "id": "edfea86a-90be-433f-89cb-12cafa70265e",
   "metadata": {},
   "outputs": [
    {
     "data": {
      "text/plain": [
       "(9, 11)"
      ]
     },
     "execution_count": 88,
     "metadata": {},
     "output_type": "execute_result"
    }
   ],
   "source": [
    "len(cat_cols), len(cont_cols)"
   ]
  },
  {
   "cell_type": "code",
   "execution_count": 89,
   "id": "7254f402-4985-4cf5-87c5-2680d1735d49",
   "metadata": {},
   "outputs": [],
   "source": [
    "# Configuration File For The Transformer Model\n",
    "transformer_cfg = {\n",
    "    'categories' : [50]*11 + [2, 5, 2, 3, 2, 5, 3, 3, 3],           # iterable with the number of unique values for categoric feature\n",
    "    #'categories' : [2, 5, 2, 3, 2, 5, 3, 3, 3],           # iterable with the number of unique values for categoric feature\n",
    "    'num_continuous' : 1,                       # continuous dimensions in data\n",
    "    'dim' : 32,                                 # hidden dim, paper set at 32\n",
    "    'dim_out' : 8,                              # binary prediction\n",
    "    'depth' : 3,                                # depth, paper recommended 6\n",
    "    'heads' : 6,                                # heads, paper recommends 8\n",
    "    'attn_dropout' : 0.1,                       # post-attention dropout\n",
    "    'ff_dropout' : 0.1,                         # feed forward dropout\n",
    "    'mlp_hidden_mults' : (4, 2),                # relative multiples of each hidden dimension of the last mlp to logits\n",
    "    'mlp_act' : nn.GELU(),                      # activation for final mlp, defaults to relu\n",
    "    'continuous_mean_std' : torch.randn(1, 2)   # normalize the continuous values before layer norm (optional)\n",
    "}"
   ]
  },
  {
   "cell_type": "code",
   "execution_count": 90,
   "id": "707de252-fbeb-4097-9421-eb31e120e03d",
   "metadata": {},
   "outputs": [],
   "source": [
    "# device = 'cuda' if torch.cuda.is_available() else 'cpu'\n",
    "device = 'cpu'"
   ]
  },
  {
   "cell_type": "code",
   "execution_count": 91,
   "id": "50e37505-a98c-4718-b61c-208698012525",
   "metadata": {},
   "outputs": [],
   "source": [
    "def create_dataloaders(fold):\n",
    "    train_idx, valid_idx = splits[fold]\n",
    "    \n",
    "    _xtr, _ytr = train_scaled[train_idx], y_train[train_idx]\n",
    "    _xval, _yval = train_scaled[valid_idx], y_train[valid_idx]\n",
    "    \n",
    "    train_ds = TabDataset(cat = _xtr, target = _ytr)\n",
    "    valid_ds = TabDataset(cat = _xval, target = _yval)\n",
    "                          \n",
    "    train_dl = DataLoader(train_ds, batch_size = cfg.bs, shuffle = True)\n",
    "    valid_dl = DataLoader(valid_ds, batch_size = cfg.bs, shuffle = False)\n",
    "    \n",
    "    return train_dl, valid_dl"
   ]
  },
  {
   "cell_type": "code",
   "execution_count": 92,
   "id": "53b60d11-eb6a-403c-89ff-820d6b68ac0c",
   "metadata": {},
   "outputs": [],
   "source": [
    "def train_fold(fold, epochs = 20):\n",
    "    train_dl, valid_dl = create_dataloaders(fold)\n",
    "    es = EarlyStopping(patience = 7, mode=\"max\", verbose = False)\n",
    "    \n",
    "    model = TabTransformer(**transformer_cfg).to(device)\n",
    "    \n",
    "    opt = torch.optim.AdamW(model.parameters(), lr = cfg.lr)\n",
    "\n",
    "    trainer = Trainer(model, \n",
    "                      device, \n",
    "                      loss_fn=nn.BCEWithLogitsLoss(reduction='none'),\n",
    "                      opt = opt,\n",
    "                      scheduler = None,\n",
    "                     )\n",
    "    \n",
    "    for epoch in range(epochs):\n",
    "        trainer.fit_one_epoch(train_dl)\n",
    "        valid_loss = trainer.eval_one_epoch(valid_dl, fold = fold, epoch = epoch)\n",
    "        \n",
    "        es(valid_loss, trainer.model, model_path = cfg.checkpoint(fold))       \n",
    "        if es.early_stop:\n",
    "            break"
   ]
  },
  {
   "cell_type": "code",
   "execution_count": 93,
   "id": "9e090667-828d-41cb-950a-805ef7cf3047",
   "metadata": {},
   "outputs": [
    {
     "name": "stdout",
     "output_type": "stream",
     "text": [
      "F0 E0   Valid Loss: 0.1292  AUROC Score: 0.8384                                                                        \n",
      "F0 E1   Valid Loss: 0.1250  AUROC Score: 0.9076                                                                        \n",
      "F0 E2   Valid Loss: 0.1206  AUROC Score: 0.9234                                                                        \n",
      "F1 E0   Valid Loss: 0.1134  AUROC Score: 0.8999                                                                        \n",
      "F1 E1   Valid Loss: 0.1092  AUROC Score: 0.9628                                                                        \n",
      "F1 E2   Valid Loss: 0.1047  AUROC Score: 0.9705                                                                        \n",
      "F2 E0   Valid Loss: 0.1031  AUROC Score: 0.8219                                                                        \n",
      "F2 E1   Valid Loss: 0.1004  AUROC Score: 0.9108                                                                        \n",
      "F2 E2   Valid Loss: 0.0974  AUROC Score: 0.9322                                                                        \n",
      "F3 E0   Valid Loss: 0.0930  AUROC Score: 0.8693                                                                        \n",
      "F3 E1   Valid Loss: 0.0893  AUROC Score: 0.9637                                                                        \n",
      "F3 E2   Valid Loss: 0.0858  AUROC Score: 0.9779                                                                        \n",
      "F4 E0   Valid Loss: 0.1095  AUROC Score: 0.8577                                                                        \n",
      "F4 E1   Valid Loss: 0.1056  AUROC Score: 0.9247                                                                        \n",
      "F4 E2   Valid Loss: 0.1013  AUROC Score: 0.9347                                                                        \n"
     ]
    }
   ],
   "source": [
    "for fold in range(cfg.n_splits):\n",
    "    train_fold(fold, cfg.epochs)\n",
    "    torch.cuda.empty_cache()\n",
    "    gc.collect()"
   ]
  },
  {
   "cell_type": "markdown",
   "id": "a23c77c0-abda-41c1-b2b6-7552cf887287",
   "metadata": {},
   "source": [
    "##### Prediction"
   ]
  },
  {
   "cell_type": "code",
   "execution_count": 94,
   "id": "79a5575a-716f-4da8-85db-5aa88e5e3650",
   "metadata": {},
   "outputs": [],
   "source": [
    "y_pred = torch.zeros(len(test_scaled), 8).to(device)\n",
    "test_ds = TabDataset(cat = test_scaled)\n",
    "test_dl = DataLoader(test_ds, batch_size = cfg.bs, shuffle = False)\n",
    "\n",
    "with torch.no_grad():\n",
    "    for fold in range(cfg.n_splits):\n",
    "        preds = []\n",
    "        model = TabTransformer(**transformer_cfg).to(device)\n",
    "        state_dict = cfg.checkpoint(fold)\n",
    "        model.load_state_dict(torch.load(state_dict))\n",
    "        model.eval()\n",
    "        \n",
    "        for d in test_dl:\n",
    "            cont = d[\"cont\"].to(device)\n",
    "            cat = d['cat'].to(device)\n",
    "            out = model(cat, cont)\n",
    "            preds.append(out)\n",
    "            \n",
    "        preds = torch.vstack(preds)\n",
    "        y_pred += preds / cfg.n_splits"
   ]
  },
  {
   "cell_type": "code",
   "execution_count": 95,
   "id": "d57f2cc1-ea26-4f43-9ba9-1a7f2718f44d",
   "metadata": {},
   "outputs": [
    {
     "data": {
      "text/plain": [
       "torch.Size([148, 8])"
      ]
     },
     "execution_count": 95,
     "metadata": {},
     "output_type": "execute_result"
    }
   ],
   "source": [
    "y_pred.shape"
   ]
  },
  {
   "cell_type": "code",
   "execution_count": 96,
   "id": "4a27393b-0c09-44ce-8980-6eb0e916a25d",
   "metadata": {},
   "outputs": [
    {
     "data": {
      "text/plain": [
       "torch.Size([148, 8])"
      ]
     },
     "execution_count": 96,
     "metadata": {},
     "output_type": "execute_result"
    }
   ],
   "source": [
    "torch.tensor(Y_val.values).shape"
   ]
  },
  {
   "cell_type": "code",
   "execution_count": 97,
   "id": "4fc5e7b5-5c83-4391-b25e-acfb8bf120cb",
   "metadata": {},
   "outputs": [
    {
     "data": {
      "text/plain": [
       "tensor([[-0.1587, -0.2128, -0.3468,  ..., -0.1551, -0.2151, -0.1884],\n",
       "        [-0.0839, -0.1505, -0.2217,  ..., -0.1650, -0.0868, -0.0847],\n",
       "        [ 0.1742,  0.1485,  0.2849,  ...,  0.1535,  0.2121,  0.1243],\n",
       "        ...,\n",
       "        [ 0.0341,  0.0204,  0.1127,  ..., -0.0064,  0.0620,  0.0532],\n",
       "        [-0.2065, -0.2354, -0.2638,  ..., -0.2214, -0.1984, -0.1847],\n",
       "        [-0.0547, -0.0703, -0.1652,  ..., -0.0613, -0.0923, -0.0934]])"
      ]
     },
     "execution_count": 97,
     "metadata": {},
     "output_type": "execute_result"
    }
   ],
   "source": [
    "y_pred"
   ]
  },
  {
   "cell_type": "code",
   "execution_count": 98,
   "id": "02b26ba9-8ea4-4ed6-8cd0-62895b3fad68",
   "metadata": {},
   "outputs": [
    {
     "data": {
      "text/plain": [
       "array([[0, 0, 0, ..., 0, 0, 0],\n",
       "       [0, 0, 0, ..., 0, 0, 0],\n",
       "       [1, 1, 1, ..., 1, 1, 1],\n",
       "       ...,\n",
       "       [1, 0, 1, ..., 1, 1, 1],\n",
       "       [0, 0, 0, ..., 0, 0, 0],\n",
       "       [0, 0, 0, ..., 0, 0, 0]], dtype=int64)"
      ]
     },
     "execution_count": 98,
     "metadata": {},
     "output_type": "execute_result"
    }
   ],
   "source": [
    "Y_val.values"
   ]
  },
  {
   "cell_type": "code",
   "execution_count": 138,
   "id": "a8e1fe97-e20d-4551-847d-2cd02c05452e",
   "metadata": {},
   "outputs": [],
   "source": [
    "# loss_fn=nn.BCEWithLogitsLoss()\n",
    "# loss_fn(y_pred, torch.tensor(Y_val.values, dtype=torch.float32))\n",
    "# nn.BCEWithLogitsLoss()"
   ]
  },
  {
   "cell_type": "code",
   "execution_count": 99,
   "id": "60b13890-58b7-4d9c-a2e8-c721cb94b70b",
   "metadata": {},
   "outputs": [],
   "source": [
    "sigmoid = nn.Sigmoid()\n",
    "y_hat = sigmoid(y_pred)"
   ]
  },
  {
   "cell_type": "code",
   "execution_count": 100,
   "id": "91f7b345-56c4-42d1-b28b-935a887dc4d9",
   "metadata": {
    "scrolled": true
   },
   "outputs": [
    {
     "data": {
      "text/html": [
       "<div>\n",
       "<style scoped>\n",
       "    .dataframe tbody tr th:only-of-type {\n",
       "        vertical-align: middle;\n",
       "    }\n",
       "\n",
       "    .dataframe tbody tr th {\n",
       "        vertical-align: top;\n",
       "    }\n",
       "\n",
       "    .dataframe thead th {\n",
       "        text-align: right;\n",
       "    }\n",
       "</style>\n",
       "<table border=\"1\" class=\"dataframe\">\n",
       "  <thead>\n",
       "    <tr style=\"text-align: right;\">\n",
       "      <th></th>\n",
       "      <th>0</th>\n",
       "      <th>1</th>\n",
       "      <th>2</th>\n",
       "      <th>3</th>\n",
       "      <th>4</th>\n",
       "      <th>5</th>\n",
       "      <th>6</th>\n",
       "      <th>7</th>\n",
       "    </tr>\n",
       "  </thead>\n",
       "  <tbody>\n",
       "    <tr>\n",
       "      <th>count</th>\n",
       "      <td>148.000000</td>\n",
       "      <td>148.000000</td>\n",
       "      <td>148.000000</td>\n",
       "      <td>148.000000</td>\n",
       "      <td>148.000000</td>\n",
       "      <td>148.000000</td>\n",
       "      <td>148.000000</td>\n",
       "      <td>148.000000</td>\n",
       "    </tr>\n",
       "    <tr>\n",
       "      <th>mean</th>\n",
       "      <td>0.465104</td>\n",
       "      <td>0.465054</td>\n",
       "      <td>0.451313</td>\n",
       "      <td>0.473256</td>\n",
       "      <td>0.455960</td>\n",
       "      <td>0.465579</td>\n",
       "      <td>0.473946</td>\n",
       "      <td>0.469811</td>\n",
       "    </tr>\n",
       "    <tr>\n",
       "      <th>std</th>\n",
       "      <td>0.028255</td>\n",
       "      <td>0.030028</td>\n",
       "      <td>0.047466</td>\n",
       "      <td>0.023556</td>\n",
       "      <td>0.043253</td>\n",
       "      <td>0.025850</td>\n",
       "      <td>0.027500</td>\n",
       "      <td>0.026800</td>\n",
       "    </tr>\n",
       "    <tr>\n",
       "      <th>min</th>\n",
       "      <td>0.428590</td>\n",
       "      <td>0.421770</td>\n",
       "      <td>0.391763</td>\n",
       "      <td>0.442267</td>\n",
       "      <td>0.398878</td>\n",
       "      <td>0.431679</td>\n",
       "      <td>0.436410</td>\n",
       "      <td>0.432751</td>\n",
       "    </tr>\n",
       "    <tr>\n",
       "      <th>25%</th>\n",
       "      <td>0.445149</td>\n",
       "      <td>0.442642</td>\n",
       "      <td>0.415727</td>\n",
       "      <td>0.453519</td>\n",
       "      <td>0.424980</td>\n",
       "      <td>0.446716</td>\n",
       "      <td>0.453045</td>\n",
       "      <td>0.451770</td>\n",
       "    </tr>\n",
       "    <tr>\n",
       "      <th>50%</th>\n",
       "      <td>0.457332</td>\n",
       "      <td>0.458072</td>\n",
       "      <td>0.439245</td>\n",
       "      <td>0.468893</td>\n",
       "      <td>0.443194</td>\n",
       "      <td>0.459243</td>\n",
       "      <td>0.464806</td>\n",
       "      <td>0.460005</td>\n",
       "    </tr>\n",
       "    <tr>\n",
       "      <th>75%</th>\n",
       "      <td>0.480122</td>\n",
       "      <td>0.480462</td>\n",
       "      <td>0.469127</td>\n",
       "      <td>0.484076</td>\n",
       "      <td>0.475416</td>\n",
       "      <td>0.478161</td>\n",
       "      <td>0.487588</td>\n",
       "      <td>0.483059</td>\n",
       "    </tr>\n",
       "    <tr>\n",
       "      <th>max</th>\n",
       "      <td>0.559060</td>\n",
       "      <td>0.561300</td>\n",
       "      <td>0.607330</td>\n",
       "      <td>0.558433</td>\n",
       "      <td>0.597351</td>\n",
       "      <td>0.554342</td>\n",
       "      <td>0.566647</td>\n",
       "      <td>0.571141</td>\n",
       "    </tr>\n",
       "  </tbody>\n",
       "</table>\n",
       "</div>"
      ],
      "text/plain": [
       "                0           1           2           3           4           5  \\\n",
       "count  148.000000  148.000000  148.000000  148.000000  148.000000  148.000000   \n",
       "mean     0.465104    0.465054    0.451313    0.473256    0.455960    0.465579   \n",
       "std      0.028255    0.030028    0.047466    0.023556    0.043253    0.025850   \n",
       "min      0.428590    0.421770    0.391763    0.442267    0.398878    0.431679   \n",
       "25%      0.445149    0.442642    0.415727    0.453519    0.424980    0.446716   \n",
       "50%      0.457332    0.458072    0.439245    0.468893    0.443194    0.459243   \n",
       "75%      0.480122    0.480462    0.469127    0.484076    0.475416    0.478161   \n",
       "max      0.559060    0.561300    0.607330    0.558433    0.597351    0.554342   \n",
       "\n",
       "                6           7  \n",
       "count  148.000000  148.000000  \n",
       "mean     0.473946    0.469811  \n",
       "std      0.027500    0.026800  \n",
       "min      0.436410    0.432751  \n",
       "25%      0.453045    0.451770  \n",
       "50%      0.464806    0.460005  \n",
       "75%      0.487588    0.483059  \n",
       "max      0.566647    0.571141  "
      ]
     },
     "execution_count": 100,
     "metadata": {},
     "output_type": "execute_result"
    }
   ],
   "source": [
    "# Probability Distribution Of Predicted Values After Implementing Class Weights \n",
    "#(Improvement seen as we can now see probabilities above 0.5 as well)\n",
    "pd.DataFrame(y_hat).describe()"
   ]
  },
  {
   "cell_type": "code",
   "execution_count": 109,
   "id": "53ee0934-16aa-43b1-a4e7-12acd65bea88",
   "metadata": {},
   "outputs": [],
   "source": [
    "y_hat = pd.DataFrame(y_hat)\n",
    "y_hat.columns = Y_val.columns"
   ]
  },
  {
   "cell_type": "code",
   "execution_count": 110,
   "id": "9f58b1d8-4432-478c-a4a8-47b64938ef82",
   "metadata": {
    "scrolled": true
   },
   "outputs": [
    {
     "data": {
      "text/html": [
       "<div>\n",
       "<style scoped>\n",
       "    .dataframe tbody tr th:only-of-type {\n",
       "        vertical-align: middle;\n",
       "    }\n",
       "\n",
       "    .dataframe tbody tr th {\n",
       "        vertical-align: top;\n",
       "    }\n",
       "\n",
       "    .dataframe thead th {\n",
       "        text-align: right;\n",
       "    }\n",
       "</style>\n",
       "<table border=\"1\" class=\"dataframe\">\n",
       "  <thead>\n",
       "    <tr style=\"text-align: right;\">\n",
       "      <th></th>\n",
       "      <th>Diabetes Mellitus 3 months after surgery (1 = Yes\\n2 = No)</th>\n",
       "      <th>Diabetes Mellitus 6 months after surgery (1 = Yes\\n2 = No)</th>\n",
       "      <th>Diabetes Mellitus 12 months after surgery (1 = Yes\\n2 = No)</th>\n",
       "      <th>Diabetes Mellitus 18 months after surgery (1 = Yes\\n2 = No)</th>\n",
       "      <th>Diabetes Mellitus 2 years after surgery (1 = Yes\\n2 = No)</th>\n",
       "      <th>Diabetes Mellitus 3 years after surgery (1 = Yes\\n2 = No)</th>\n",
       "      <th>Diabetes Mellitus 4 years after surgery (1 = Yes\\n2 = No)</th>\n",
       "      <th>Diabetes Mellitus 5 years after surgery (1 = Yes\\n2 = No)</th>\n",
       "    </tr>\n",
       "  </thead>\n",
       "  <tbody>\n",
       "    <tr>\n",
       "      <th>0</th>\n",
       "      <td>0.460413</td>\n",
       "      <td>0.446996</td>\n",
       "      <td>0.414152</td>\n",
       "      <td>0.467169</td>\n",
       "      <td>0.430592</td>\n",
       "      <td>0.461297</td>\n",
       "      <td>0.446422</td>\n",
       "      <td>0.453035</td>\n",
       "    </tr>\n",
       "    <tr>\n",
       "      <th>1</th>\n",
       "      <td>0.479033</td>\n",
       "      <td>0.462451</td>\n",
       "      <td>0.444790</td>\n",
       "      <td>0.472650</td>\n",
       "      <td>0.463101</td>\n",
       "      <td>0.458842</td>\n",
       "      <td>0.478321</td>\n",
       "      <td>0.478845</td>\n",
       "    </tr>\n",
       "    <tr>\n",
       "      <th>2</th>\n",
       "      <td>0.543428</td>\n",
       "      <td>0.537060</td>\n",
       "      <td>0.570741</td>\n",
       "      <td>0.537687</td>\n",
       "      <td>0.566612</td>\n",
       "      <td>0.538289</td>\n",
       "      <td>0.552837</td>\n",
       "      <td>0.531031</td>\n",
       "    </tr>\n",
       "    <tr>\n",
       "      <th>3</th>\n",
       "      <td>0.486542</td>\n",
       "      <td>0.500490</td>\n",
       "      <td>0.482880</td>\n",
       "      <td>0.482046</td>\n",
       "      <td>0.469907</td>\n",
       "      <td>0.480676</td>\n",
       "      <td>0.492492</td>\n",
       "      <td>0.485077</td>\n",
       "    </tr>\n",
       "    <tr>\n",
       "      <th>4</th>\n",
       "      <td>0.559060</td>\n",
       "      <td>0.558582</td>\n",
       "      <td>0.607330</td>\n",
       "      <td>0.553700</td>\n",
       "      <td>0.597351</td>\n",
       "      <td>0.554342</td>\n",
       "      <td>0.566647</td>\n",
       "      <td>0.563546</td>\n",
       "    </tr>\n",
       "    <tr>\n",
       "      <th>...</th>\n",
       "      <td>...</td>\n",
       "      <td>...</td>\n",
       "      <td>...</td>\n",
       "      <td>...</td>\n",
       "      <td>...</td>\n",
       "      <td>...</td>\n",
       "      <td>...</td>\n",
       "      <td>...</td>\n",
       "    </tr>\n",
       "    <tr>\n",
       "      <th>143</th>\n",
       "      <td>0.464519</td>\n",
       "      <td>0.459190</td>\n",
       "      <td>0.422633</td>\n",
       "      <td>0.487267</td>\n",
       "      <td>0.441833</td>\n",
       "      <td>0.464406</td>\n",
       "      <td>0.478189</td>\n",
       "      <td>0.455915</td>\n",
       "    </tr>\n",
       "    <tr>\n",
       "      <th>144</th>\n",
       "      <td>0.431661</td>\n",
       "      <td>0.442709</td>\n",
       "      <td>0.418291</td>\n",
       "      <td>0.447766</td>\n",
       "      <td>0.420106</td>\n",
       "      <td>0.434756</td>\n",
       "      <td>0.448892</td>\n",
       "      <td>0.439416</td>\n",
       "    </tr>\n",
       "    <tr>\n",
       "      <th>145</th>\n",
       "      <td>0.508518</td>\n",
       "      <td>0.505112</td>\n",
       "      <td>0.528137</td>\n",
       "      <td>0.505569</td>\n",
       "      <td>0.519983</td>\n",
       "      <td>0.498406</td>\n",
       "      <td>0.515484</td>\n",
       "      <td>0.513289</td>\n",
       "    </tr>\n",
       "    <tr>\n",
       "      <th>146</th>\n",
       "      <td>0.448545</td>\n",
       "      <td>0.441414</td>\n",
       "      <td>0.434432</td>\n",
       "      <td>0.452129</td>\n",
       "      <td>0.430047</td>\n",
       "      <td>0.444873</td>\n",
       "      <td>0.450551</td>\n",
       "      <td>0.453944</td>\n",
       "    </tr>\n",
       "    <tr>\n",
       "      <th>147</th>\n",
       "      <td>0.486340</td>\n",
       "      <td>0.482431</td>\n",
       "      <td>0.458789</td>\n",
       "      <td>0.486783</td>\n",
       "      <td>0.461235</td>\n",
       "      <td>0.484688</td>\n",
       "      <td>0.476946</td>\n",
       "      <td>0.476659</td>\n",
       "    </tr>\n",
       "  </tbody>\n",
       "</table>\n",
       "<p>148 rows × 8 columns</p>\n",
       "</div>"
      ],
      "text/plain": [
       "     Diabetes Mellitus 3 months after surgery (1 = Yes\\n2 = No)  \\\n",
       "0                                             0.460413            \n",
       "1                                             0.479033            \n",
       "2                                             0.543428            \n",
       "3                                             0.486542            \n",
       "4                                             0.559060            \n",
       "..                                                 ...            \n",
       "143                                           0.464519            \n",
       "144                                           0.431661            \n",
       "145                                           0.508518            \n",
       "146                                           0.448545            \n",
       "147                                           0.486340            \n",
       "\n",
       "     Diabetes Mellitus 6 months after surgery (1 = Yes\\n2 = No)  \\\n",
       "0                                             0.446996            \n",
       "1                                             0.462451            \n",
       "2                                             0.537060            \n",
       "3                                             0.500490            \n",
       "4                                             0.558582            \n",
       "..                                                 ...            \n",
       "143                                           0.459190            \n",
       "144                                           0.442709            \n",
       "145                                           0.505112            \n",
       "146                                           0.441414            \n",
       "147                                           0.482431            \n",
       "\n",
       "     Diabetes Mellitus 12 months after surgery (1 = Yes\\n2 = No)  \\\n",
       "0                                             0.414152             \n",
       "1                                             0.444790             \n",
       "2                                             0.570741             \n",
       "3                                             0.482880             \n",
       "4                                             0.607330             \n",
       "..                                                 ...             \n",
       "143                                           0.422633             \n",
       "144                                           0.418291             \n",
       "145                                           0.528137             \n",
       "146                                           0.434432             \n",
       "147                                           0.458789             \n",
       "\n",
       "     Diabetes Mellitus 18 months after surgery (1 = Yes\\n2 = No)  \\\n",
       "0                                             0.467169             \n",
       "1                                             0.472650             \n",
       "2                                             0.537687             \n",
       "3                                             0.482046             \n",
       "4                                             0.553700             \n",
       "..                                                 ...             \n",
       "143                                           0.487267             \n",
       "144                                           0.447766             \n",
       "145                                           0.505569             \n",
       "146                                           0.452129             \n",
       "147                                           0.486783             \n",
       "\n",
       "     Diabetes Mellitus 2 years after surgery (1 = Yes\\n2 = No)  \\\n",
       "0                                             0.430592           \n",
       "1                                             0.463101           \n",
       "2                                             0.566612           \n",
       "3                                             0.469907           \n",
       "4                                             0.597351           \n",
       "..                                                 ...           \n",
       "143                                           0.441833           \n",
       "144                                           0.420106           \n",
       "145                                           0.519983           \n",
       "146                                           0.430047           \n",
       "147                                           0.461235           \n",
       "\n",
       "     Diabetes Mellitus 3 years after surgery (1 = Yes\\n2 = No)  \\\n",
       "0                                             0.461297           \n",
       "1                                             0.458842           \n",
       "2                                             0.538289           \n",
       "3                                             0.480676           \n",
       "4                                             0.554342           \n",
       "..                                                 ...           \n",
       "143                                           0.464406           \n",
       "144                                           0.434756           \n",
       "145                                           0.498406           \n",
       "146                                           0.444873           \n",
       "147                                           0.484688           \n",
       "\n",
       "     Diabetes Mellitus 4 years after surgery (1 = Yes\\n2 = No)  \\\n",
       "0                                             0.446422           \n",
       "1                                             0.478321           \n",
       "2                                             0.552837           \n",
       "3                                             0.492492           \n",
       "4                                             0.566647           \n",
       "..                                                 ...           \n",
       "143                                           0.478189           \n",
       "144                                           0.448892           \n",
       "145                                           0.515484           \n",
       "146                                           0.450551           \n",
       "147                                           0.476946           \n",
       "\n",
       "     Diabetes Mellitus 5 years after surgery (1 = Yes\\n2 = No)  \n",
       "0                                             0.453035          \n",
       "1                                             0.478845          \n",
       "2                                             0.531031          \n",
       "3                                             0.485077          \n",
       "4                                             0.563546          \n",
       "..                                                 ...          \n",
       "143                                           0.455915          \n",
       "144                                           0.439416          \n",
       "145                                           0.513289          \n",
       "146                                           0.453944          \n",
       "147                                           0.476659          \n",
       "\n",
       "[148 rows x 8 columns]"
      ]
     },
     "execution_count": 110,
     "metadata": {},
     "output_type": "execute_result"
    }
   ],
   "source": [
    "y_hat"
   ]
  },
  {
   "cell_type": "code",
   "execution_count": 111,
   "id": "18328c2c-11e5-49d9-9610-620cc6244331",
   "metadata": {},
   "outputs": [],
   "source": [
    "y_hat_labels = y_hat.copy()\n",
    "\n",
    "y_hat_labels[y_hat_labels>0.5]=1\n",
    "y_hat_labels[y_hat_labels<=0.5]=0"
   ]
  },
  {
   "cell_type": "code",
   "execution_count": 113,
   "id": "81f18edb-5c45-4728-a9e5-5a850438745e",
   "metadata": {},
   "outputs": [
    {
     "data": {
      "text/plain": [
       "Diabetes Mellitus 3 months after surgery (1 = Yes\\n2 = No)     16.0\n",
       "Diabetes Mellitus 6 months after surgery (1 = Yes\\n2 = No)     21.0\n",
       "Diabetes Mellitus 12 months after surgery (1 = Yes\\n2 = No)    21.0\n",
       "Diabetes Mellitus 18 months after surgery (1 = Yes\\n2 = No)    19.0\n",
       "Diabetes Mellitus 2 years after surgery (1 = Yes\\n2 = No)      22.0\n",
       "Diabetes Mellitus 3 years after surgery (1 = Yes\\n2 = No)      15.0\n",
       "Diabetes Mellitus 4 years after surgery (1 = Yes\\n2 = No)      22.0\n",
       "Diabetes Mellitus 5 years after surgery (1 = Yes\\n2 = No)      19.0\n",
       "dtype: float32"
      ]
     },
     "execution_count": 113,
     "metadata": {},
     "output_type": "execute_result"
    }
   ],
   "source": [
    "y_hat_labels.sum()"
   ]
  },
  {
   "cell_type": "code",
   "execution_count": 136,
   "id": "a10d1a8d-d81c-4e18-8c97-cb217f2883a0",
   "metadata": {},
   "outputs": [],
   "source": [
    "import sklearn\n",
    "from sklearn.metrics import f1_score, accuracy_score, precision_score, recall_score"
   ]
  },
  {
   "cell_type": "code",
   "execution_count": 137,
   "id": "6a3109cf-6560-4303-b55b-f84590d1d323",
   "metadata": {},
   "outputs": [
    {
     "name": "stdout",
     "output_type": "stream",
     "text": [
      "Printing results for  Diabetes Mellitus 3 months after surgery (1 = Yes2 = No)\n",
      "F1 Score : 0.7096774193548386, Precision : 0.6875, Recall : 0.7333333333333333, Accuracy : 0.9391891891891891\n",
      "Printing results for  Diabetes Mellitus 6 months after surgery (1 = Yes2 = No)\n",
      "F1 Score : 0.7058823529411765, Precision : 0.5714285714285714, Recall : 0.9230769230769231, Accuracy : 0.9324324324324325\n",
      "Printing results for  Diabetes Mellitus 12 months after surgery (1 = Yes2 = No)\n",
      "F1 Score : 0.9047619047619048, Precision : 0.9047619047619048, Recall : 0.9047619047619048, Accuracy : 0.972972972972973\n",
      "Printing results for  Diabetes Mellitus 18 months after surgery (1 = Yes2 = No)\n",
      "F1 Score : 0.6470588235294117, Precision : 0.5789473684210527, Recall : 0.7333333333333333, Accuracy : 0.918918918918919\n",
      "Printing results for  Diabetes Mellitus 2 years after surgery (1 = Yes2 = No)\n",
      "F1 Score : 0.8780487804878049, Precision : 0.8181818181818182, Recall : 0.9473684210526315, Accuracy : 0.9662162162162162\n",
      "Printing results for  Diabetes Mellitus 3 years after surgery (1 = Yes2 = No)\n",
      "F1 Score : 0.6206896551724138, Precision : 0.6, Recall : 0.6428571428571429, Accuracy : 0.9256756756756757\n",
      "Printing results for  Diabetes Mellitus 4 years after surgery (1 = Yes2 = No)\n",
      "F1 Score : 0.5882352941176471, Precision : 0.45454545454545453, Recall : 0.8333333333333334, Accuracy : 0.9054054054054054\n",
      "Printing results for  Diabetes Mellitus 5 years after surgery (1 = Yes2 = No)\n",
      "F1 Score : 0.7058823529411765, Precision : 0.631578947368421, Recall : 0.8, Accuracy : 0.9324324324324325\n",
      "****************************************************************************************************\n",
      "Printing Results For All Labels Combined...\n",
      "F1 Score : 0.7311827956989247, Precision : 0.6580645161290323, Recall : 0.8225806451612904, Accuracy : 0.9366554054054054\n"
     ]
    },
    {
     "data": {
      "image/png": "[encoded data removed]",
      "text/plain": [
       "<Figure size 640x480 with 1 Axes>"
      ]
     },
     "metadata": {},
     "output_type": "display_data"
    }
   ],
   "source": [
    "### Evaluating the model on the same test dataset that we had suring stage 1(a few weeks back) for all other models\n",
    "\n",
    "for col in Y_val.columns[:]:\n",
    "    print('Printing results for ',col.replace('\\n',''))\n",
    "    actuals = Y_val[col]\n",
    "    preds = y_hat_labels[col]\n",
    "    #print(actuals)\n",
    "    #print(preds)\n",
    "    f1 = f1_score(actuals,preds)\n",
    "    precision = precision_score(actuals,preds)\n",
    "    recall = recall_score(actuals,preds)\n",
    "    accuracy = accuracy_score(actuals, preds)\n",
    "    print(f'F1 Score : {f1}, Precision : {precision}, Recall : {recall}, Accuracy : {accuracy}')\n",
    "\n",
    "print('*'*100)\n",
    "print('Printing Results For All Labels Combined...')\n",
    "actuals = Y_val.stack().values\n",
    "preds = y_hat_labels.stack().values\n",
    "#print(actuals)\n",
    "#print(preds)\n",
    "f1 = f1_score(actuals,preds)\n",
    "precision = precision_score(actuals,preds)\n",
    "recall = recall_score(actuals,preds)\n",
    "accuracy = accuracy_score(actuals, preds)\n",
    "print(f'F1 Score : {f1}, Precision : {precision}, Recall : {recall}, Accuracy : {accuracy}')\n",
    "\n",
    "probs = y_hat.stack().values\n",
    "fpr, tpr, threshold = sklearn.metrics.roc_curve(actuals, probs)\n",
    "# print(len(fpr),len(tpr),len(threshold))\n",
    "roc_auc = sklearn.metrics.auc(fpr, tpr)\n",
    "\n",
    "import matplotlib.pyplot as plt\n",
    "plt.title(f'AUC-ROC for TabTransformer')\n",
    "plt.plot(fpr, tpr, 'b', label = 'AUC = %0.2f' % roc_auc)\n",
    "plt.legend(loc = 'lower right')\n",
    "plt.plot([0, 1], [0, 1],'r--')\n",
    "plt.xlim([0, 1])\n",
    "plt.ylim([0, 1])\n",
    "plt.ylabel('True Positive Rate')\n",
    "plt.xlabel('False Positive Rate')\n",
    "plt.show()"
   ]
  },
  {
   "cell_type": "markdown",
   "id": "7ac0ea57-8ed9-4632-b085-bf0e7c2574c7",
   "metadata": {},
   "source": [
    "##### Code ends here"
   ]
  },
  {
   "cell_type": "code",
   "execution_count": null,
   "id": "ce499281-ca9a-4af2-954e-290c9d1f0a58",
   "metadata": {},
   "outputs": [],
   "source": []
  },
  {
   "cell_type": "code",
   "execution_count": 75,
   "id": "361b90a0-801c-479d-a01e-760c1aee8967",
   "metadata": {},
   "outputs": [
    {
     "data": {
      "text/html": [
       "<div>\n",
       "<style scoped>\n",
       "    .dataframe tbody tr th:only-of-type {\n",
       "        vertical-align: middle;\n",
       "    }\n",
       "\n",
       "    .dataframe tbody tr th {\n",
       "        vertical-align: top;\n",
       "    }\n",
       "\n",
       "    .dataframe thead th {\n",
       "        text-align: right;\n",
       "    }\n",
       "</style>\n",
       "<table border=\"1\" class=\"dataframe\">\n",
       "  <thead>\n",
       "    <tr style=\"text-align: right;\">\n",
       "      <th></th>\n",
       "      <th>0</th>\n",
       "      <th>1</th>\n",
       "      <th>2</th>\n",
       "      <th>3</th>\n",
       "      <th>4</th>\n",
       "      <th>5</th>\n",
       "      <th>6</th>\n",
       "      <th>7</th>\n",
       "    </tr>\n",
       "  </thead>\n",
       "  <tbody>\n",
       "    <tr>\n",
       "      <th>count</th>\n",
       "      <td>148.000000</td>\n",
       "      <td>148.000000</td>\n",
       "      <td>148.000000</td>\n",
       "      <td>148.000000</td>\n",
       "      <td>148.000000</td>\n",
       "      <td>148.000000</td>\n",
       "      <td>148.000000</td>\n",
       "      <td>148.000000</td>\n",
       "    </tr>\n",
       "    <tr>\n",
       "      <th>mean</th>\n",
       "      <td>0.310236</td>\n",
       "      <td>0.308740</td>\n",
       "      <td>0.320185</td>\n",
       "      <td>0.300516</td>\n",
       "      <td>0.323239</td>\n",
       "      <td>0.291340</td>\n",
       "      <td>0.299247</td>\n",
       "      <td>0.299631</td>\n",
       "    </tr>\n",
       "    <tr>\n",
       "      <th>std</th>\n",
       "      <td>0.018310</td>\n",
       "      <td>0.018796</td>\n",
       "      <td>0.022429</td>\n",
       "      <td>0.015660</td>\n",
       "      <td>0.020792</td>\n",
       "      <td>0.017816</td>\n",
       "      <td>0.016359</td>\n",
       "      <td>0.016108</td>\n",
       "    </tr>\n",
       "    <tr>\n",
       "      <th>min</th>\n",
       "      <td>0.276965</td>\n",
       "      <td>0.282198</td>\n",
       "      <td>0.283236</td>\n",
       "      <td>0.278874</td>\n",
       "      <td>0.287528</td>\n",
       "      <td>0.263196</td>\n",
       "      <td>0.268981</td>\n",
       "      <td>0.272665</td>\n",
       "    </tr>\n",
       "    <tr>\n",
       "      <th>25%</th>\n",
       "      <td>0.297601</td>\n",
       "      <td>0.294224</td>\n",
       "      <td>0.303911</td>\n",
       "      <td>0.289724</td>\n",
       "      <td>0.309635</td>\n",
       "      <td>0.278355</td>\n",
       "      <td>0.287337</td>\n",
       "      <td>0.288586</td>\n",
       "    </tr>\n",
       "    <tr>\n",
       "      <th>50%</th>\n",
       "      <td>0.305068</td>\n",
       "      <td>0.303543</td>\n",
       "      <td>0.313356</td>\n",
       "      <td>0.296954</td>\n",
       "      <td>0.316957</td>\n",
       "      <td>0.287084</td>\n",
       "      <td>0.295840</td>\n",
       "      <td>0.296519</td>\n",
       "    </tr>\n",
       "    <tr>\n",
       "      <th>75%</th>\n",
       "      <td>0.318989</td>\n",
       "      <td>0.319847</td>\n",
       "      <td>0.329614</td>\n",
       "      <td>0.307485</td>\n",
       "      <td>0.330656</td>\n",
       "      <td>0.299967</td>\n",
       "      <td>0.308041</td>\n",
       "      <td>0.309522</td>\n",
       "    </tr>\n",
       "    <tr>\n",
       "      <th>max</th>\n",
       "      <td>0.365376</td>\n",
       "      <td>0.367900</td>\n",
       "      <td>0.395372</td>\n",
       "      <td>0.356913</td>\n",
       "      <td>0.387490</td>\n",
       "      <td>0.350941</td>\n",
       "      <td>0.349027</td>\n",
       "      <td>0.347511</td>\n",
       "    </tr>\n",
       "  </tbody>\n",
       "</table>\n",
       "</div>"
      ],
      "text/plain": [
       "                0           1           2           3           4           5  \\\n",
       "count  148.000000  148.000000  148.000000  148.000000  148.000000  148.000000   \n",
       "mean     0.310236    0.308740    0.320185    0.300516    0.323239    0.291340   \n",
       "std      0.018310    0.018796    0.022429    0.015660    0.020792    0.017816   \n",
       "min      0.276965    0.282198    0.283236    0.278874    0.287528    0.263196   \n",
       "25%      0.297601    0.294224    0.303911    0.289724    0.309635    0.278355   \n",
       "50%      0.305068    0.303543    0.313356    0.296954    0.316957    0.287084   \n",
       "75%      0.318989    0.319847    0.329614    0.307485    0.330656    0.299967   \n",
       "max      0.365376    0.367900    0.395372    0.356913    0.387490    0.350941   \n",
       "\n",
       "                6           7  \n",
       "count  148.000000  148.000000  \n",
       "mean     0.299247    0.299631  \n",
       "std      0.016359    0.016108  \n",
       "min      0.268981    0.272665  \n",
       "25%      0.287337    0.288586  \n",
       "50%      0.295840    0.296519  \n",
       "75%      0.308041    0.309522  \n",
       "max      0.349027    0.347511  "
      ]
     },
     "execution_count": 75,
     "metadata": {},
     "output_type": "execute_result"
    }
   ],
   "source": [
    "# Probability Distribution Of Predicted Values BEFORE Implementing Class Weights \n",
    "\n",
    "pd.DataFrame(y_hat).describe()"
   ]
  }
 ],
 "metadata": {
  "kernelspec": {
   "display_name": "Python 3 (ipykernel)",
   "language": "python",
   "name": "python3"
  },
  "language_info": {
   "codemirror_mode": {
    "name": "ipython",
    "version": 3
   },
   "file_extension": ".py",
   "mimetype": "text/x-python",
   "name": "python",
   "nbconvert_exporter": "python",
   "pygments_lexer": "ipython3",
   "version": "3.10.13"
  }
 },
 "nbformat": 4,
 "nbformat_minor": 5
}
